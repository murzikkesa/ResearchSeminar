{
 "cells": [
  {
   "cell_type": "markdown",
   "metadata": {
    "collapsed": true
   },
   "source": [
    "Начальные условия"
   ]
  },
  {
   "cell_type": "markdown",
   "metadata": {},
   "source": [
    "* M - множество состояний\n",
    "* К - множество возможных значений марковского процесса(выбросы). Выбросы - это e, за которыми следуют целые числа от 0 до k-1.\n",
    "* Путь состояния закодирован аналогичным образом с префиксом p\n",
    "\n"
   ]
  },
  {
   "cell_type": "markdown",
   "metadata": {},
   "source": [
    "Задание 1 \n"
   ]
  },
  {
   "cell_type": "markdown",
   "metadata": {},
   "source": [
    "<font size=\"3\"> Считать матрицу  вероятностей перехода между состояниями (MxM) и матрицу условных вероятностей (P($e_i$ | $_j$)\n",
    "где $e_i$ - наблюдение, $_j$ - состояние, и начальное распределение (вектор длины M) из файла (файл имеет формат с разделенной табуляцией)</font>\n"
   ]
  },
  {
   "cell_type": "markdown",
   "metadata": {},
   "source": [
    "Для того, чтобы считать матрицу вероятностей, попросим пользователя ввести некоторые параметры, а именно M, K и введем параметр length, который предполагает длину последовательности"
   ]
  },
  {
   "cell_type": "code",
   "execution_count": 1,
   "metadata": {},
   "outputs": [],
   "source": [
    "import numpy as np\n",
    "import pandas as pd"
   ]
  },
  {
   "cell_type": "code",
   "execution_count": 2,
   "metadata": {},
   "outputs": [
    {
     "name": "stdout",
     "output_type": "stream",
     "text": [
      "Введите мощность множества состояний: 5\n"
     ]
    }
   ],
   "source": [
    "M = int(input('Введите мощность множества состояний: '))"
   ]
  },
  {
   "cell_type": "code",
   "execution_count": 4,
   "metadata": {},
   "outputs": [
    {
     "name": "stdout",
     "output_type": "stream",
     "text": [
      "Введите мощность множества возможных значений марковского процесса: 6\n"
     ]
    }
   ],
   "source": [
    "K=int(input('Введите мощность множества возможных значений марковского процесса: '))"
   ]
  },
  {
   "cell_type": "code",
   "execution_count": 5,
   "metadata": {},
   "outputs": [
    {
     "name": "stdout",
     "output_type": "stream",
     "text": [
      "Введите длину последовательности: 7\n"
     ]
    }
   ],
   "source": [
    "length = int(input('Введите длину последовательности: '))"
   ]
  },
  {
   "cell_type": "markdown",
   "metadata": {},
   "source": [
    "Далее генерируем параметры модели."
   ]
  },
  {
   "cell_type": "code",
   "execution_count": 46,
   "metadata": {},
   "outputs": [],
   "source": [
    "transition_matrix = pd.DataFrame(np.random.randint(0,10,size=(M, M))).add_prefix('p_').T.add_prefix('p_').T\n",
    "emission_matrix = pd.DataFrame(np.random.randint(0,10,size=(M, K))).add_prefix('e_').T.add_prefix('p_').T\n",
    "pi = pd.DataFrame(np.random.randint(1,10,size=(M, 1))).T.add_prefix('p_').T\n",
    "\n",
    "transition_matrix = transition_matrix.div(transition_matrix.sum(axis=1),axis=0)\n",
    "emission_matrix = emission_matrix.div(emission_matrix.sum(axis=1),axis=0)\n",
    "pi = pi.div(pi.sum(axis=0),axis=1)\n"
   ]
  },
  {
   "cell_type": "markdown",
   "metadata": {},
   "source": [
    "Запишем в csv файл параметры модели."
   ]
  },
  {
   "cell_type": "code",
   "execution_count": 47,
   "metadata": {},
   "outputs": [],
   "source": [
    "transition_matrix.to_csv('transition_matrix.csv',sep='\\t')\n",
    "emission_matrix.to_csv('emission_matrix.csv',sep='\\t')\n",
    "pi.to_csv('pi.csv',sep='\\t')"
   ]
  },
  {
   "cell_type": "markdown",
   "metadata": {},
   "source": [
    "Прочитаем csv файл."
   ]
  },
  {
   "cell_type": "code",
   "execution_count": 48,
   "metadata": {},
   "outputs": [],
   "source": [
    "transition_matrix_read = pd.read_csv('transition_matrix.csv',sep='\\t',index_col=0)\n",
    "emission_matrix_read = pd.read_csv('emission_matrix.csv',sep='\\t',index_col=0)\n",
    "pi_read = pd.read_csv('pi.csv',sep='\\t',index_col=0)"
   ]
  },
  {
   "cell_type": "code",
   "execution_count": 49,
   "metadata": {},
   "outputs": [
    {
     "data": {
      "text/html": [
       "<div>\n",
       "<style scoped>\n",
       "    .dataframe tbody tr th:only-of-type {\n",
       "        vertical-align: middle;\n",
       "    }\n",
       "\n",
       "    .dataframe tbody tr th {\n",
       "        vertical-align: top;\n",
       "    }\n",
       "\n",
       "    .dataframe thead th {\n",
       "        text-align: right;\n",
       "    }\n",
       "</style>\n",
       "<table border=\"1\" class=\"dataframe\">\n",
       "  <thead>\n",
       "    <tr style=\"text-align: right;\">\n",
       "      <th></th>\n",
       "      <th>p_0</th>\n",
       "      <th>p_1</th>\n",
       "      <th>p_2</th>\n",
       "      <th>p_3</th>\n",
       "      <th>p_4</th>\n",
       "    </tr>\n",
       "  </thead>\n",
       "  <tbody>\n",
       "    <tr>\n",
       "      <th>p_0</th>\n",
       "      <td>0.142857</td>\n",
       "      <td>0.238095</td>\n",
       "      <td>0.285714</td>\n",
       "      <td>0.238095</td>\n",
       "      <td>0.095238</td>\n",
       "    </tr>\n",
       "    <tr>\n",
       "      <th>p_1</th>\n",
       "      <td>0.176471</td>\n",
       "      <td>0.411765</td>\n",
       "      <td>0.117647</td>\n",
       "      <td>0.176471</td>\n",
       "      <td>0.117647</td>\n",
       "    </tr>\n",
       "    <tr>\n",
       "      <th>p_2</th>\n",
       "      <td>0.238095</td>\n",
       "      <td>0.047619</td>\n",
       "      <td>0.190476</td>\n",
       "      <td>0.095238</td>\n",
       "      <td>0.428571</td>\n",
       "    </tr>\n",
       "    <tr>\n",
       "      <th>p_3</th>\n",
       "      <td>0.300000</td>\n",
       "      <td>0.100000</td>\n",
       "      <td>0.166667</td>\n",
       "      <td>0.300000</td>\n",
       "      <td>0.133333</td>\n",
       "    </tr>\n",
       "    <tr>\n",
       "      <th>p_4</th>\n",
       "      <td>0.000000</td>\n",
       "      <td>0.310345</td>\n",
       "      <td>0.275862</td>\n",
       "      <td>0.103448</td>\n",
       "      <td>0.310345</td>\n",
       "    </tr>\n",
       "  </tbody>\n",
       "</table>\n",
       "</div>"
      ],
      "text/plain": [
       "          p_0       p_1       p_2       p_3       p_4\n",
       "p_0  0.142857  0.238095  0.285714  0.238095  0.095238\n",
       "p_1  0.176471  0.411765  0.117647  0.176471  0.117647\n",
       "p_2  0.238095  0.047619  0.190476  0.095238  0.428571\n",
       "p_3  0.300000  0.100000  0.166667  0.300000  0.133333\n",
       "p_4  0.000000  0.310345  0.275862  0.103448  0.310345"
      ]
     },
     "execution_count": 49,
     "metadata": {},
     "output_type": "execute_result"
    }
   ],
   "source": [
    "transition_matrix_read"
   ]
  },
  {
   "cell_type": "code",
   "execution_count": 50,
   "metadata": {},
   "outputs": [
    {
     "data": {
      "text/html": [
       "<div>\n",
       "<style scoped>\n",
       "    .dataframe tbody tr th:only-of-type {\n",
       "        vertical-align: middle;\n",
       "    }\n",
       "\n",
       "    .dataframe tbody tr th {\n",
       "        vertical-align: top;\n",
       "    }\n",
       "\n",
       "    .dataframe thead th {\n",
       "        text-align: right;\n",
       "    }\n",
       "</style>\n",
       "<table border=\"1\" class=\"dataframe\">\n",
       "  <thead>\n",
       "    <tr style=\"text-align: right;\">\n",
       "      <th></th>\n",
       "      <th>e_0</th>\n",
       "      <th>e_1</th>\n",
       "      <th>e_2</th>\n",
       "      <th>e_3</th>\n",
       "      <th>e_4</th>\n",
       "      <th>e_5</th>\n",
       "    </tr>\n",
       "  </thead>\n",
       "  <tbody>\n",
       "    <tr>\n",
       "      <th>p_0</th>\n",
       "      <td>0.181818</td>\n",
       "      <td>0.409091</td>\n",
       "      <td>0.181818</td>\n",
       "      <td>0.136364</td>\n",
       "      <td>0.000000</td>\n",
       "      <td>0.090909</td>\n",
       "    </tr>\n",
       "    <tr>\n",
       "      <th>p_1</th>\n",
       "      <td>0.142857</td>\n",
       "      <td>0.142857</td>\n",
       "      <td>0.095238</td>\n",
       "      <td>0.142857</td>\n",
       "      <td>0.285714</td>\n",
       "      <td>0.190476</td>\n",
       "    </tr>\n",
       "    <tr>\n",
       "      <th>p_2</th>\n",
       "      <td>0.058824</td>\n",
       "      <td>0.117647</td>\n",
       "      <td>0.176471</td>\n",
       "      <td>0.264706</td>\n",
       "      <td>0.176471</td>\n",
       "      <td>0.205882</td>\n",
       "    </tr>\n",
       "    <tr>\n",
       "      <th>p_3</th>\n",
       "      <td>0.281250</td>\n",
       "      <td>0.218750</td>\n",
       "      <td>0.093750</td>\n",
       "      <td>0.062500</td>\n",
       "      <td>0.281250</td>\n",
       "      <td>0.062500</td>\n",
       "    </tr>\n",
       "    <tr>\n",
       "      <th>p_4</th>\n",
       "      <td>0.173913</td>\n",
       "      <td>0.173913</td>\n",
       "      <td>0.043478</td>\n",
       "      <td>0.043478</td>\n",
       "      <td>0.304348</td>\n",
       "      <td>0.260870</td>\n",
       "    </tr>\n",
       "  </tbody>\n",
       "</table>\n",
       "</div>"
      ],
      "text/plain": [
       "          e_0       e_1       e_2       e_3       e_4       e_5\n",
       "p_0  0.181818  0.409091  0.181818  0.136364  0.000000  0.090909\n",
       "p_1  0.142857  0.142857  0.095238  0.142857  0.285714  0.190476\n",
       "p_2  0.058824  0.117647  0.176471  0.264706  0.176471  0.205882\n",
       "p_3  0.281250  0.218750  0.093750  0.062500  0.281250  0.062500\n",
       "p_4  0.173913  0.173913  0.043478  0.043478  0.304348  0.260870"
      ]
     },
     "execution_count": 50,
     "metadata": {},
     "output_type": "execute_result"
    }
   ],
   "source": [
    "emission_matrix_read"
   ]
  },
  {
   "cell_type": "code",
   "execution_count": 51,
   "metadata": {},
   "outputs": [
    {
     "data": {
      "text/html": [
       "<div>\n",
       "<style scoped>\n",
       "    .dataframe tbody tr th:only-of-type {\n",
       "        vertical-align: middle;\n",
       "    }\n",
       "\n",
       "    .dataframe tbody tr th {\n",
       "        vertical-align: top;\n",
       "    }\n",
       "\n",
       "    .dataframe thead th {\n",
       "        text-align: right;\n",
       "    }\n",
       "</style>\n",
       "<table border=\"1\" class=\"dataframe\">\n",
       "  <thead>\n",
       "    <tr style=\"text-align: right;\">\n",
       "      <th></th>\n",
       "      <th>0</th>\n",
       "    </tr>\n",
       "  </thead>\n",
       "  <tbody>\n",
       "    <tr>\n",
       "      <th>p_0</th>\n",
       "      <td>0.115385</td>\n",
       "    </tr>\n",
       "    <tr>\n",
       "      <th>p_1</th>\n",
       "      <td>0.346154</td>\n",
       "    </tr>\n",
       "    <tr>\n",
       "      <th>p_2</th>\n",
       "      <td>0.346154</td>\n",
       "    </tr>\n",
       "    <tr>\n",
       "      <th>p_3</th>\n",
       "      <td>0.076923</td>\n",
       "    </tr>\n",
       "    <tr>\n",
       "      <th>p_4</th>\n",
       "      <td>0.115385</td>\n",
       "    </tr>\n",
       "  </tbody>\n",
       "</table>\n",
       "</div>"
      ],
      "text/plain": [
       "            0\n",
       "p_0  0.115385\n",
       "p_1  0.346154\n",
       "p_2  0.346154\n",
       "p_3  0.076923\n",
       "p_4  0.115385"
      ]
     },
     "execution_count": 51,
     "metadata": {},
     "output_type": "execute_result"
    }
   ],
   "source": [
    "pi_read"
   ]
  },
  {
   "cell_type": "markdown",
   "metadata": {},
   "source": [
    "Выбираем состояние для генерации пути"
   ]
  },
  {
   "cell_type": "code",
   "execution_count": 52,
   "metadata": {},
   "outputs": [],
   "source": [
    "def random_choice(distribution,p):\n",
    "    s = np.random.random()*distribution[p].sum()\n",
    "    for i in range(len(distribution)):\n",
    "        s = s - distribution[p]['p_'+str(i)]\n",
    "        if s < 0:\n",
    "            return 'p_'+str(i)"
   ]
  },
  {
   "cell_type": "markdown",
   "metadata": {},
   "source": [
    "Выбираем матрицу условных вероятностей"
   ]
  },
  {
   "cell_type": "code",
   "execution_count": 53,
   "metadata": {},
   "outputs": [],
   "source": [
    "   def random_choice2(distribution,p):\n",
    "    s = np.random.random()*distribution[p].sum()\n",
    "    for i in range(len(distribution)):\n",
    "        s = s - distribution[p]['e_'+str(i)]\n",
    "        if s < 0:\n",
    "            return 'e_'+str(i)\n",
    "\n"
   ]
  },
  {
   "cell_type": "markdown",
   "metadata": {},
   "source": [
    "Создали функцию для генерации пути"
   ]
  },
  {
   "cell_type": "code",
   "execution_count": 54,
   "metadata": {},
   "outputs": [],
   "source": [
    "def HMM_random_generator_path(begin_distribution1,transition1,L):\n",
    "    path = []\n",
    "    path.append(random_choice(begin_distribution1,'0'))\n",
    "    for i in range(1,L):\n",
    "        path.append(random_choice(pd.DataFrame(transition1.T[path[i-1]]),path[i-1]))\n",
    "    return path"
   ]
  },
  {
   "cell_type": "markdown",
   "metadata": {},
   "source": [
    "Создали функцию для генераци последовательности"
   ]
  },
  {
   "cell_type": "code",
   "execution_count": 55,
   "metadata": {},
   "outputs": [],
   "source": [
    "def HMM_random_generator_sequence(states,emission1,L):\n",
    "    sequence = []\n",
    "    for i in range(length):\n",
    "        sequence.append(random_choice2(pd.DataFrame(emission1.T[states[i]]),states[i]))\n",
    "    return sequence"
   ]
  },
  {
   "cell_type": "markdown",
   "metadata": {},
   "source": [
    "Генерируем путь и последовательность"
   ]
  },
  {
   "cell_type": "code",
   "execution_count": 56,
   "metadata": {},
   "outputs": [],
   "source": [
    "simulated_path = HMM_random_generator_path(pi_read,transition_matrix_read,length)\n",
    "sequence = HMM_random_generator_sequence(simulated_path,emission_matrix_read,length)"
   ]
  },
  {
   "cell_type": "code",
   "execution_count": 57,
   "metadata": {},
   "outputs": [
    {
     "data": {
      "text/plain": [
       "['p_2', 'p_3', 'p_2', 'p_0', 'p_1', 'p_1', 'p_4']"
      ]
     },
     "execution_count": 57,
     "metadata": {},
     "output_type": "execute_result"
    }
   ],
   "source": [
    "simulated_path"
   ]
  },
  {
   "cell_type": "code",
   "execution_count": 58,
   "metadata": {},
   "outputs": [
    {
     "data": {
      "text/plain": [
       "['e_2', 'e_1', 'e_2', 'e_2', 'e_4', 'e_2', 'e_4']"
      ]
     },
     "execution_count": 58,
     "metadata": {},
     "output_type": "execute_result"
    }
   ],
   "source": [
    "sequence"
   ]
  },
  {
   "cell_type": "markdown",
   "metadata": {},
   "source": [
    "Считать параметры скрытой марковской модели и наблюдаемую последовательность X. Используйте алгоритм Витерби для нахождения наиболее вероятного пути , которая дает последовательность X и параметры марковской модели.\n",
    "На выходе: путь в виде файла с форматом с разделенной табуляцией.\n"
   ]
  },
  {
   "cell_type": "markdown",
   "metadata": {},
   "source": [
    "Долнительная функция для получения максимального элемента в сумме вероятностей"
   ]
  },
  {
   "cell_type": "code",
   "execution_count": 59,
   "metadata": {},
   "outputs": [],
   "source": [
    "def get_max(values):\n",
    "    maxv = values[0]\n",
    "    maxi = 0\n",
    "    for ind, val in enumerate(values):\n",
    "        if val>maxv:\n",
    "            maxv = val\n",
    "            maxi = ind\n",
    "    return maxv,maxi"
   ]
  },
  {
   "cell_type": "markdown",
   "metadata": {},
   "source": [
    "Ветерби алгоритм"
   ]
  },
  {
   "cell_type": "code",
   "execution_count": 60,
   "metadata": {},
   "outputs": [],
   "source": [
    "def viterbi(transition_matrix_read,emission_matrix_read,sequence1):\n",
    "    F = pd.DataFrame(np.zeros((M,length+1)),index=transition_matrix_read.index)\n",
    "    F[0]=pi_read['0']\n",
    "    C = pd.DataFrame(np.zeros((M,length+1)),index=transition_matrix_read.index)\n",
    "    for k in F.columns[1:]:\n",
    "        for i in F.index:\n",
    "            values = []\n",
    "            for j in F.index:\n",
    "                values.append(F[k-1][j]*transition_matrix_read[i][j]*emission_matrix_read[sequence1[k-1]][i])\n",
    "            maxv, maxi = get_max(values)\n",
    "            F[k][i] = maxv\n",
    "            C[k][i] = maxi\n",
    "    return F, C\n",
    "\n"
   ]
  },
  {
   "cell_type": "code",
   "execution_count": 61,
   "metadata": {},
   "outputs": [],
   "source": [
    "F, C= viterbi(transition_matrix_read,emission_matrix_read,sequence)"
   ]
  },
  {
   "cell_type": "code",
   "execution_count": 62,
   "metadata": {},
   "outputs": [
    {
     "data": {
      "text/html": [
       "<div>\n",
       "<style scoped>\n",
       "    .dataframe tbody tr th:only-of-type {\n",
       "        vertical-align: middle;\n",
       "    }\n",
       "\n",
       "    .dataframe tbody tr th {\n",
       "        vertical-align: top;\n",
       "    }\n",
       "\n",
       "    .dataframe thead th {\n",
       "        text-align: right;\n",
       "    }\n",
       "</style>\n",
       "<table border=\"1\" class=\"dataframe\">\n",
       "  <thead>\n",
       "    <tr style=\"text-align: right;\">\n",
       "      <th></th>\n",
       "      <th>0</th>\n",
       "      <th>1</th>\n",
       "      <th>2</th>\n",
       "      <th>3</th>\n",
       "      <th>4</th>\n",
       "      <th>5</th>\n",
       "      <th>6</th>\n",
       "      <th>7</th>\n",
       "    </tr>\n",
       "  </thead>\n",
       "  <tbody>\n",
       "    <tr>\n",
       "      <th>p_0</th>\n",
       "      <td>0.115385</td>\n",
       "      <td>0.014985</td>\n",
       "      <td>0.001133</td>\n",
       "      <td>0.000043</td>\n",
       "      <td>2.473689e-06</td>\n",
       "      <td>0.000000e+00</td>\n",
       "      <td>9.035389e-09</td>\n",
       "      <td>0.000000e+00</td>\n",
       "    </tr>\n",
       "    <tr>\n",
       "      <th>p_1</th>\n",
       "      <td>0.346154</td>\n",
       "      <td>0.013575</td>\n",
       "      <td>0.000799</td>\n",
       "      <td>0.000031</td>\n",
       "      <td>1.228004e-06</td>\n",
       "      <td>1.682781e-07</td>\n",
       "      <td>8.274989e-09</td>\n",
       "      <td>9.735281e-10</td>\n",
       "    </tr>\n",
       "    <tr>\n",
       "      <th>p_2</th>\n",
       "      <td>0.346154</td>\n",
       "      <td>0.011635</td>\n",
       "      <td>0.000504</td>\n",
       "      <td>0.000057</td>\n",
       "      <td>2.146440e-06</td>\n",
       "      <td>1.247238e-07</td>\n",
       "      <td>1.362939e-08</td>\n",
       "      <td>4.581309e-10</td>\n",
       "    </tr>\n",
       "    <tr>\n",
       "      <th>p_3</th>\n",
       "      <td>0.076923</td>\n",
       "      <td>0.005727</td>\n",
       "      <td>0.000780</td>\n",
       "      <td>0.000025</td>\n",
       "      <td>9.502470e-07</td>\n",
       "      <td>1.656488e-07</td>\n",
       "      <td>4.658872e-09</td>\n",
       "      <td>6.050484e-10</td>\n",
       "    </tr>\n",
       "    <tr>\n",
       "      <th>p_4</th>\n",
       "      <td>0.115385</td>\n",
       "      <td>0.006450</td>\n",
       "      <td>0.000867</td>\n",
       "      <td>0.000012</td>\n",
       "      <td>1.064762e-06</td>\n",
       "      <td>2.799705e-07</td>\n",
       "      <td>3.777712e-09</td>\n",
       "      <td>1.777747e-09</td>\n",
       "    </tr>\n",
       "  </tbody>\n",
       "</table>\n",
       "</div>"
      ],
      "text/plain": [
       "            0         1         2         3             4             5  \\\n",
       "p_0  0.115385  0.014985  0.001133  0.000043  2.473689e-06  0.000000e+00   \n",
       "p_1  0.346154  0.013575  0.000799  0.000031  1.228004e-06  1.682781e-07   \n",
       "p_2  0.346154  0.011635  0.000504  0.000057  2.146440e-06  1.247238e-07   \n",
       "p_3  0.076923  0.005727  0.000780  0.000025  9.502470e-07  1.656488e-07   \n",
       "p_4  0.115385  0.006450  0.000867  0.000012  1.064762e-06  2.799705e-07   \n",
       "\n",
       "                6             7  \n",
       "p_0  9.035389e-09  0.000000e+00  \n",
       "p_1  8.274989e-09  9.735281e-10  \n",
       "p_2  1.362939e-08  4.581309e-10  \n",
       "p_3  4.658872e-09  6.050484e-10  \n",
       "p_4  3.777712e-09  1.777747e-09  "
      ]
     },
     "execution_count": 62,
     "metadata": {},
     "output_type": "execute_result"
    }
   ],
   "source": [
    "F"
   ]
  },
  {
   "cell_type": "code",
   "execution_count": 63,
   "metadata": {},
   "outputs": [
    {
     "data": {
      "text/html": [
       "<div>\n",
       "<style scoped>\n",
       "    .dataframe tbody tr th:only-of-type {\n",
       "        vertical-align: middle;\n",
       "    }\n",
       "\n",
       "    .dataframe tbody tr th {\n",
       "        vertical-align: top;\n",
       "    }\n",
       "\n",
       "    .dataframe thead th {\n",
       "        text-align: right;\n",
       "    }\n",
       "</style>\n",
       "<table border=\"1\" class=\"dataframe\">\n",
       "  <thead>\n",
       "    <tr style=\"text-align: right;\">\n",
       "      <th></th>\n",
       "      <th>0</th>\n",
       "      <th>1</th>\n",
       "      <th>2</th>\n",
       "      <th>3</th>\n",
       "      <th>4</th>\n",
       "      <th>5</th>\n",
       "      <th>6</th>\n",
       "      <th>7</th>\n",
       "    </tr>\n",
       "  </thead>\n",
       "  <tbody>\n",
       "    <tr>\n",
       "      <th>p_0</th>\n",
       "      <td>0.0</td>\n",
       "      <td>2.0</td>\n",
       "      <td>2.0</td>\n",
       "      <td>3.0</td>\n",
       "      <td>2.0</td>\n",
       "      <td>0.0</td>\n",
       "      <td>3.0</td>\n",
       "      <td>0.0</td>\n",
       "    </tr>\n",
       "    <tr>\n",
       "      <th>p_1</th>\n",
       "      <td>0.0</td>\n",
       "      <td>1.0</td>\n",
       "      <td>1.0</td>\n",
       "      <td>1.0</td>\n",
       "      <td>1.0</td>\n",
       "      <td>0.0</td>\n",
       "      <td>4.0</td>\n",
       "      <td>1.0</td>\n",
       "    </tr>\n",
       "    <tr>\n",
       "      <th>p_2</th>\n",
       "      <td>0.0</td>\n",
       "      <td>2.0</td>\n",
       "      <td>0.0</td>\n",
       "      <td>0.0</td>\n",
       "      <td>0.0</td>\n",
       "      <td>0.0</td>\n",
       "      <td>4.0</td>\n",
       "      <td>2.0</td>\n",
       "    </tr>\n",
       "    <tr>\n",
       "      <th>p_3</th>\n",
       "      <td>0.0</td>\n",
       "      <td>1.0</td>\n",
       "      <td>0.0</td>\n",
       "      <td>0.0</td>\n",
       "      <td>0.0</td>\n",
       "      <td>0.0</td>\n",
       "      <td>3.0</td>\n",
       "      <td>0.0</td>\n",
       "    </tr>\n",
       "    <tr>\n",
       "      <th>p_4</th>\n",
       "      <td>0.0</td>\n",
       "      <td>2.0</td>\n",
       "      <td>2.0</td>\n",
       "      <td>4.0</td>\n",
       "      <td>2.0</td>\n",
       "      <td>2.0</td>\n",
       "      <td>4.0</td>\n",
       "      <td>2.0</td>\n",
       "    </tr>\n",
       "  </tbody>\n",
       "</table>\n",
       "</div>"
      ],
      "text/plain": [
       "       0    1    2    3    4    5    6    7\n",
       "p_0  0.0  2.0  2.0  3.0  2.0  0.0  3.0  0.0\n",
       "p_1  0.0  1.0  1.0  1.0  1.0  0.0  4.0  1.0\n",
       "p_2  0.0  2.0  0.0  0.0  0.0  0.0  4.0  2.0\n",
       "p_3  0.0  1.0  0.0  0.0  0.0  0.0  3.0  0.0\n",
       "p_4  0.0  2.0  2.0  4.0  2.0  2.0  4.0  2.0"
      ]
     },
     "execution_count": 63,
     "metadata": {},
     "output_type": "execute_result"
    }
   ],
   "source": [
    "C"
   ]
  },
  {
   "cell_type": "markdown",
   "metadata": {},
   "source": [
    "Найти вероятность P(x), используя прямой алгоритм (хранить полную матрицу вероятностей, найденных при прямом алгоритме  fk(xi), для того чтобы использовать его для последующего декодирования). \n"
   ]
  },
  {
   "cell_type": "code",
   "execution_count": 64,
   "metadata": {},
   "outputs": [],
   "source": [
    "def forward(pi_read,transition_matrix_read,emission_matrix_read,sequence):\n",
    "    F = np.zeros((length,M))\n",
    "    F[0] = pi_read['0']*emission_matrix_read[sequence[0]]\n",
    "    for i in range(1,length):\n",
    "        F[i] = F[i-1]@transition_matrix_read*emission_matrix_read[sequence[i]]\n",
    "    return pd.DataFrame(F).add_prefix('p_').T"
   ]
  },
  {
   "cell_type": "code",
   "execution_count": 65,
   "metadata": {},
   "outputs": [],
   "source": [
    "def P(data,length):\n",
    "    return data[lenqth-1].sum()\n"
   ]
  },
  {
   "cell_type": "code",
   "execution_count": 66,
   "metadata": {},
   "outputs": [],
   "source": [
    "F = forward(pi_read,transition_matrix_read,emission_matrix_read,sequence)\n"
   ]
  },
  {
   "cell_type": "code",
   "execution_count": 67,
   "metadata": {},
   "outputs": [
    {
     "data": {
      "text/html": [
       "<div>\n",
       "<style scoped>\n",
       "    .dataframe tbody tr th:only-of-type {\n",
       "        vertical-align: middle;\n",
       "    }\n",
       "\n",
       "    .dataframe tbody tr th {\n",
       "        vertical-align: top;\n",
       "    }\n",
       "\n",
       "    .dataframe thead th {\n",
       "        text-align: right;\n",
       "    }\n",
       "</style>\n",
       "<table border=\"1\" class=\"dataframe\">\n",
       "  <thead>\n",
       "    <tr style=\"text-align: right;\">\n",
       "      <th></th>\n",
       "      <th>0</th>\n",
       "      <th>1</th>\n",
       "      <th>2</th>\n",
       "      <th>3</th>\n",
       "      <th>4</th>\n",
       "      <th>5</th>\n",
       "      <th>6</th>\n",
       "    </tr>\n",
       "  </thead>\n",
       "  <tbody>\n",
       "    <tr>\n",
       "      <th>p_0</th>\n",
       "      <td>0.020979</td>\n",
       "      <td>0.010441</td>\n",
       "      <td>0.000733</td>\n",
       "      <td>0.000113</td>\n",
       "      <td>0.000000</td>\n",
       "      <td>2.265607e-06</td>\n",
       "      <td>0.000000e+00</td>\n",
       "    </tr>\n",
       "    <tr>\n",
       "      <th>p_1</th>\n",
       "      <td>0.032967</td>\n",
       "      <td>0.003394</td>\n",
       "      <td>0.000601</td>\n",
       "      <td>0.000056</td>\n",
       "      <td>0.000020</td>\n",
       "      <td>1.775290e-06</td>\n",
       "      <td>5.056835e-07</td>\n",
       "    </tr>\n",
       "    <tr>\n",
       "      <th>p_2</th>\n",
       "      <td>0.061086</td>\n",
       "      <td>0.002835</td>\n",
       "      <td>0.001109</td>\n",
       "      <td>0.000112</td>\n",
       "      <td>0.000014</td>\n",
       "      <td>2.653891e-06</td>\n",
       "      <td>3.156632e-07</td>\n",
       "    </tr>\n",
       "    <tr>\n",
       "      <th>p_3</th>\n",
       "      <td>0.007212</td>\n",
       "      <td>0.004225</td>\n",
       "      <td>0.000492</td>\n",
       "      <td>0.000052</td>\n",
       "      <td>0.000019</td>\n",
       "      <td>1.227223e-06</td>\n",
       "      <td>4.379313e-07</td>\n",
       "    </tr>\n",
       "    <tr>\n",
       "      <th>p_4</th>\n",
       "      <td>0.005017</td>\n",
       "      <td>0.006013</td>\n",
       "      <td>0.000219</td>\n",
       "      <td>0.000033</td>\n",
       "      <td>0.000025</td>\n",
       "      <td>8.067218e-07</td>\n",
       "      <td>6.013923e-07</td>\n",
       "    </tr>\n",
       "  </tbody>\n",
       "</table>\n",
       "</div>"
      ],
      "text/plain": [
       "            0         1         2         3         4             5  \\\n",
       "p_0  0.020979  0.010441  0.000733  0.000113  0.000000  2.265607e-06   \n",
       "p_1  0.032967  0.003394  0.000601  0.000056  0.000020  1.775290e-06   \n",
       "p_2  0.061086  0.002835  0.001109  0.000112  0.000014  2.653891e-06   \n",
       "p_3  0.007212  0.004225  0.000492  0.000052  0.000019  1.227223e-06   \n",
       "p_4  0.005017  0.006013  0.000219  0.000033  0.000025  8.067218e-07   \n",
       "\n",
       "                6  \n",
       "p_0  0.000000e+00  \n",
       "p_1  5.056835e-07  \n",
       "p_2  3.156632e-07  \n",
       "p_3  4.379313e-07  \n",
       "p_4  6.013923e-07  "
      ]
     },
     "execution_count": 67,
     "metadata": {},
     "output_type": "execute_result"
    }
   ],
   "source": [
    "F"
   ]
  },
  {
   "cell_type": "markdown",
   "metadata": {},
   "source": [
    "Запрограммировать обратный алгоритм."
   ]
  },
  {
   "cell_type": "code",
   "execution_count": 76,
   "metadata": {},
   "outputs": [],
   "source": [
    "def backward(F,transition_matrix_read,emission_matrix_read,sequence1):\n",
    "    F1 = pd.DataFrame(np.zeros((M,length)),index=transition_matrix_read.index)\n",
    "    F1[len(sequence)-1]=F[len(sequence)-1]\n",
    "    for j in range(len(sequence)-2,-1,-1):\n",
    "        for i in F1.index:\n",
    "            p_sum = 0\n",
    "            for k in F1.index:\n",
    "                p_sum += F1[j+1][k]*transition_matrix_read[k][i]*emission_matrix_read[sequence1[j+1]][k]\n",
    "            F1[j][i] = p_sum\n",
    "    return F1"
   ]
  },
  {
   "cell_type": "code",
   "execution_count": 77,
   "metadata": {},
   "outputs": [],
   "source": [
    "F1=backward(F,transition_matrix_read,emission_matrix_read,sequence)"
   ]
  },
  {
   "cell_type": "code",
   "execution_count": 78,
   "metadata": {},
   "outputs": [
    {
     "data": {
      "text/html": [
       "<div>\n",
       "<style scoped>\n",
       "    .dataframe tbody tr th:only-of-type {\n",
       "        vertical-align: middle;\n",
       "    }\n",
       "\n",
       "    .dataframe tbody tr th {\n",
       "        vertical-align: top;\n",
       "    }\n",
       "\n",
       "    .dataframe thead th {\n",
       "        text-align: right;\n",
       "    }\n",
       "</style>\n",
       "<table border=\"1\" class=\"dataframe\">\n",
       "  <thead>\n",
       "    <tr style=\"text-align: right;\">\n",
       "      <th></th>\n",
       "      <th>0</th>\n",
       "      <th>1</th>\n",
       "      <th>2</th>\n",
       "      <th>3</th>\n",
       "      <th>4</th>\n",
       "      <th>5</th>\n",
       "      <th>6</th>\n",
       "    </tr>\n",
       "  </thead>\n",
       "  <tbody>\n",
       "    <tr>\n",
       "      <th>p_0</th>\n",
       "      <td>6.725923e-12</td>\n",
       "      <td>3.627336e-11</td>\n",
       "      <td>3.044615e-10</td>\n",
       "      <td>2.543209e-09</td>\n",
       "      <td>1.286512e-08</td>\n",
       "      <td>9.707345e-08</td>\n",
       "      <td>0.000000e+00</td>\n",
       "    </tr>\n",
       "    <tr>\n",
       "      <th>p_1</th>\n",
       "      <td>7.031253e-12</td>\n",
       "      <td>3.311482e-11</td>\n",
       "      <td>2.849785e-10</td>\n",
       "      <td>2.639390e-09</td>\n",
       "      <td>1.170810e-08</td>\n",
       "      <td>1.093145e-07</td>\n",
       "      <td>5.056835e-07</td>\n",
       "    </tr>\n",
       "    <tr>\n",
       "      <th>p_2</th>\n",
       "      <td>7.351040e-12</td>\n",
       "      <td>3.123867e-11</td>\n",
       "      <td>2.758431e-10</td>\n",
       "      <td>2.325505e-09</td>\n",
       "      <td>1.149443e-08</td>\n",
       "      <td>1.076634e-07</td>\n",
       "      <td>3.156632e-07</td>\n",
       "    </tr>\n",
       "    <tr>\n",
       "      <th>p_3</th>\n",
       "      <td>8.664277e-12</td>\n",
       "      <td>3.765464e-11</td>\n",
       "      <td>3.112393e-10</td>\n",
       "      <td>2.188080e-09</td>\n",
       "      <td>1.264783e-08</td>\n",
       "      <td>8.508710e-08</td>\n",
       "      <td>4.379313e-07</td>\n",
       "    </tr>\n",
       "    <tr>\n",
       "      <th>p_4</th>\n",
       "      <td>4.860667e-12</td>\n",
       "      <td>2.828437e-11</td>\n",
       "      <td>2.530457e-10</td>\n",
       "      <td>3.009238e-09</td>\n",
       "      <td>1.104815e-08</td>\n",
       "      <td>1.297506e-07</td>\n",
       "      <td>6.013923e-07</td>\n",
       "    </tr>\n",
       "  </tbody>\n",
       "</table>\n",
       "</div>"
      ],
      "text/plain": [
       "                0             1             2             3             4  \\\n",
       "p_0  6.725923e-12  3.627336e-11  3.044615e-10  2.543209e-09  1.286512e-08   \n",
       "p_1  7.031253e-12  3.311482e-11  2.849785e-10  2.639390e-09  1.170810e-08   \n",
       "p_2  7.351040e-12  3.123867e-11  2.758431e-10  2.325505e-09  1.149443e-08   \n",
       "p_3  8.664277e-12  3.765464e-11  3.112393e-10  2.188080e-09  1.264783e-08   \n",
       "p_4  4.860667e-12  2.828437e-11  2.530457e-10  3.009238e-09  1.104815e-08   \n",
       "\n",
       "                5             6  \n",
       "p_0  9.707345e-08  0.000000e+00  \n",
       "p_1  1.093145e-07  5.056835e-07  \n",
       "p_2  1.076634e-07  3.156632e-07  \n",
       "p_3  8.508710e-08  4.379313e-07  \n",
       "p_4  1.297506e-07  6.013923e-07  "
      ]
     },
     "execution_count": 78,
     "metadata": {},
     "output_type": "execute_result"
    }
   ],
   "source": [
    "F1"
   ]
  },
  {
   "cell_type": "code",
   "execution_count": null,
   "metadata": {},
   "outputs": [],
   "source": []
  }
 ],
 "metadata": {
  "kernelspec": {
   "display_name": "Python 2",
   "language": "python",
   "name": "python2"
  },
  "language_info": {
   "codemirror_mode": {
    "name": "ipython",
    "version": 3
   },
   "file_extension": ".py",
   "mimetype": "text/x-python",
   "name": "python",
   "nbconvert_exporter": "python",
   "pygments_lexer": "ipython3",
   "version": "3.7.2"
  }
 },
 "nbformat": 4,
 "nbformat_minor": 1
}
